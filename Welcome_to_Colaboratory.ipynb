{
  "cells": [
    {
      "cell_type": "markdown",
      "metadata": {
        "id": "view-in-github",
        "colab_type": "text"
      },
      "source": [
        "<a href=\"https://colab.research.google.com/github/VenkatReddy2003V/GENARATIVE-AI/blob/main/Welcome_to_Colaboratory.ipynb\" target=\"_parent\"><img src=\"https://colab.research.google.com/assets/colab-badge.svg\" alt=\"Open In Colab\"/></a>"
      ]
    },
    {
      "cell_type": "markdown",
      "metadata": {
        "id": "Wf5KrEb6vrkR"
      },
      "source": [
        "<div class=\"markdown-google-sans\">\n",
        "  <h1>Welcome to Colab!</h1>\n",
        "</div>\n",
        "\n",
        "<div class=\"markdown-google-sans\">\n",
        "  <h2>&#40;New&#41; Try the Gemini API</h2>\n",
        "  <ul>\n",
        "  <li><a href=\"https://makersuite.google.com/app/apikey\">Generate a Gemini API key</a></li>\n",
        "  <li><a href=\"https://colab.research.google.com/github/googlecolab/colabtools/blob/main/notebooks/Talk_to_Gemini_with_Google%27s_Speech_to_Text_API.ipynb?utm_medium=link&utm_campaign=gemini\">Talk to Gemini with the Speech-to-Text API</a></li>\n",
        "  <li><a href=\"https://colab.research.google.com/github/google/generative-ai-docs/blob/main/site/en/tutorials/quickstart_colab.ipynb?utm_medium=link&utm_campaign=gemini\">Gemini API: Quickstart with Python</a></li>\n",
        "  <li><a href=\"https://colab.research.google.com/notebooks/snippets/gemini.ipynb?utm_medium=link&utm_campaign=gemini\">Gemini API code sample</a></li>\n",
        "  <li><a href=\"https://colab.research.google.com/github/googlecolab/colabtools/blob/main/notebooks/Learning_with_Gemini_and_ChatGPT.ipynb?utm_medium=link&utm_campaign=gemini\">Compare Gemini with ChatGPT</a></li>  \n",
        "  <li><a href=\"https://colab.google/notebooks/?utm_medium=link&utm_campaign=gemini\">More notebooks</a></li>\n",
        "  </ul>\n",
        "</div>\n"
      ]
    },
    {
      "cell_type": "code",
      "source": [
        "def derivative(x):\n",
        "    \"\"\"Computes the derivative of f(x) = 5x^4 + 3x^2 + 10.\"\"\"\n",
        "    return 20*x**3 + 6*x\n",
        "\n",
        "def gradient_descent(learning_rate=0.01, epochs=1000, initial_x=1):\n",
        "    \"\"\"Performs gradient descent to find the minimum of f(x).\"\"\"\n",
        "    x = initial_x\n",
        "    for _ in range(epochs):\n",
        "        grad = derivative(x)\n",
        "        x = x - learning_rate * grad\n",
        "    return x\n",
        "min_x = gradient_descent(learning_rate=0.01, epochs=1000, initial_x=1)\n",
        "print(\"Value of x at minimum:\", min_x)"
      ],
      "metadata": {
        "id": "iV2zlNTw3H78",
        "outputId": "8b84ec09-f818-4019-e24e-7f042e7b8404",
        "colab": {
          "base_uri": "https://localhost:8080/"
        }
      },
      "execution_count": 2,
      "outputs": [
        {
          "output_type": "stream",
          "name": "stdout",
          "text": [
            "Value of x at minimum: 5.963540395046457e-28\n"
          ]
        }
      ]
    },
    {
      "cell_type": "code",
      "source": [
        "def derivative_x(x):\n",
        "    \"\"\"Computes the partial derivative of g(x, y) with respect to x.\"\"\"\n",
        "    return 6 * x\n",
        "def derivative_y(y):\n",
        "    \"\"\"Computes the partial derivative of g(x, y) with respect to y.\"\"\"\n",
        "    return 5 * (2.71828 ** y)\n",
        "\n",
        "def gradient_descent(learning_rate=0.01, epochs=1000, initial_x=1, initial_y=1):\n",
        "    \"\"\"Performs gradient descent to find the minimum of g(x, y).\"\"\"\n",
        "    x, y = initial_x, initial_y\n",
        "    for _ in range(epochs):\n",
        "        grad_x = derivative_x(x)\n",
        "        grad_y = derivative_y(y)\n",
        "        x = x - learning_rate * grad_x\n",
        "        y = y - learning_rate * grad_y\n",
        "    return x, y\n",
        "\n",
        "min_x, min_y = gradient_descent(learning_rate=0.01, epochs=1000, initial_x=1, initial_y=1)\n",
        "print(\"Value of x at minimum:\", min_x)\n",
        "print(\"Value of y at minimum:\", min_y)"
      ],
      "metadata": {
        "id": "-ycZ2dhF3XXb",
        "outputId": "93d0b72d-5386-44e5-c9f6-a50f4a5bd43f",
        "colab": {
          "base_uri": "https://localhost:8080/"
        }
      },
      "execution_count": 3,
      "outputs": [
        {
          "output_type": "stream",
          "name": "stdout",
          "text": [
            "Value of x at minimum: 1.3423123924933694e-27\n",
            "Value of y at minimum: -3.921819095652026\n"
          ]
        }
      ]
    },
    {
      "cell_type": "code",
      "source": [
        "def sigmoid(x):\n",
        "    \"\"\"Computes the sigmoid function.\"\"\"\n",
        "    return 1 / (1 + 2.71828**(-x))\n",
        "\n",
        "def derivative(x):\n",
        "    \"\"\"Computes the derivative of sigmoid function.\"\"\"\n",
        "    s = sigmoid(x)\n",
        "    return s * (1 - s)\n",
        "\n",
        "def gradient_descent(learning_rate=0.1, epochs=1000, initial_x=1):\n",
        "    \"\"\"Performs gradient descent to minimize the sigmoid function.\"\"\"\n",
        "    x = initial_x\n",
        "    for _ in range(epochs):\n",
        "        grad = derivative(x)\n",
        "        x = x - learning_rate * grad\n",
        "    return x\n",
        "min_x = gradient_descent(learning_rate=0.1, epochs=1000, initial_x=1)\n",
        "print(\"Value of x at minimum:\", min_x)"
      ],
      "metadata": {
        "id": "xf1fsiKJ3eID",
        "outputId": "af72bd98-f5f1-42f2-9a30-521d263b5d6a",
        "colab": {
          "base_uri": "https://localhost:8080/"
        }
      },
      "execution_count": 4,
      "outputs": [
        {
          "output_type": "stream",
          "name": "stdout",
          "text": [
            "Value of x at minimum: -4.4644756132889425\n"
          ]
        }
      ]
    },
    {
      "cell_type": "code",
      "source": [
        "def calculate_error(M, C, data_points):\n",
        "    total_error = 0\n",
        "    for x, y in data_points:\n",
        "        predicted_y = M * x + C\n",
        "        error = (y - predicted_y) ** 2\n",
        "        total_error += error\n",
        "    return total_error\n",
        "\n",
        "def gradient_descent(data_points, learning_rate=0.01, iterations=1000):\n",
        "    M = 0\n",
        "    C = 0\n",
        "    n = len(data_points)\n",
        "\n",
        "    for _ in range(iterations):\n",
        "        dM = 0\n",
        "        dC = 0\n",
        "        for x, y in data_points:\n",
        "            predicted_y = M * x + C\n",
        "            dM += -2 * x * (y - predicted_y)\n",
        "            dC += -2 * (y - predicted_y)\n",
        "        M = M - (learning_rate * dM) / n\n",
        "        C = C - (learning_rate * dC) / n\n",
        "\n",
        "    return M, C\n",
        "data_points = [(1, 2), (2, 3), (3, 5), (4, 6), (5, 8)]\n",
        "optimal_M, optimal_C = gradient_descent(data_points)\n",
        "print(\"Optimal M:\", optimal_M)\n",
        "print(\"Optimal C:\", optimal_C)"
      ],
      "metadata": {
        "id": "TPNkT8zs31vD",
        "outputId": "00a6546f-6c76-4acd-d312-cc747d696415",
        "colab": {
          "base_uri": "https://localhost:8080/"
        }
      },
      "execution_count": 5,
      "outputs": [
        {
          "output_type": "stream",
          "name": "stdout",
          "text": [
            "Optimal M: 1.498995332505075\n",
            "Optimal C: 0.3036271684359493\n"
          ]
        }
      ]
    }
  ],
  "metadata": {
    "colab": {
      "name": "Welcome to Colaboratory",
      "toc_visible": true,
      "provenance": [],
      "include_colab_link": true
    },
    "kernelspec": {
      "display_name": "Python 3",
      "name": "python3"
    }
  },
  "nbformat": 4,
  "nbformat_minor": 0
}