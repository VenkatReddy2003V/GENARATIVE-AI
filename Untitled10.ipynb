{
  "nbformat": 4,
  "nbformat_minor": 0,
  "metadata": {
    "colab": {
      "provenance": [],
      "authorship_tag": "ABX9TyMQ+evqV6wRfDv7UMpwNulO",
      "include_colab_link": true
    },
    "kernelspec": {
      "name": "python3",
      "display_name": "Python 3"
    },
    "language_info": {
      "name": "python"
    }
  },
  "cells": [
    {
      "cell_type": "markdown",
      "metadata": {
        "id": "view-in-github",
        "colab_type": "text"
      },
      "source": [
        "<a href=\"https://colab.research.google.com/github/VenkatReddy2003V/GENARATIVE-AI/blob/main/Untitled10.ipynb\" target=\"_parent\"><img src=\"https://colab.research.google.com/assets/colab-badge.svg\" alt=\"Open In Colab\"/></a>"
      ]
    },
    {
      "cell_type": "code",
      "execution_count": 1,
      "metadata": {
        "colab": {
          "base_uri": "https://localhost:8080/"
        },
        "id": "dwqtkD-t4ZwJ",
        "outputId": "b191b542-c95a-4260-acaa-25e4cd9a5599"
      },
      "outputs": [
        {
          "output_type": "stream",
          "name": "stdout",
          "text": [
            "Epoch 0: Loss = 0.1397\n",
            "Epoch 100: Loss = 0.0071\n",
            "Epoch 200: Loss = 0.0013\n",
            "Epoch 300: Loss = 0.0010\n",
            "Epoch 400: Loss = 0.0009\n",
            "Epoch 500: Loss = 0.0008\n",
            "Epoch 600: Loss = 0.0008\n",
            "Epoch 700: Loss = 0.0007\n",
            "Epoch 800: Loss = 0.0007\n",
            "Epoch 900: Loss = 0.0007\n",
            "Final Training MSE: 0.0006\n",
            "Final Testing MSE: 0.0040\n",
            "Enter x1, x2, x3 values separated by space: 0.6 0.7 0.8\n",
            "Predicted Output: 0.6611\n"
          ]
        }
      ],
      "source": [
        "import numpy as np\n",
        "\n",
        "X_train = np.array([\n",
        "    [0.1, 0.2, 0.3],\n",
        "    [0.2, 0.3, 0.4],\n",
        "    [0.3, 0.4, 0.5],\n",
        "    [0.5, 0.6, 0.7],\n",
        "    [0.1, 0.3, 0.5],\n",
        "    [0.2, 0.4, 0.6],\n",
        "    [0.3, 0.5, 0.7],\n",
        "    [0.4, 0.6, 0.8],\n",
        "    [0.5, 0.7, 0.1]\n",
        "])\n",
        "\n",
        "Y_train = np.array([[0.5349], [0.5498], [0.5646], [0.5939], [0.5548], [0.5695], [0.5842], [0.5987], [0.5548]])\n",
        "\n",
        "X_test = np.array([\n",
        "    [0.6, 0.7, 0.8],\n",
        "    [0.7, 0.8, 0.9]\n",
        "])\n",
        "Y_test = np.array([[0.6083], [0.6225]])\n",
        "\n",
        "np.random.seed(42)\n",
        "w = np.random.randn(3, 1) * 0.1\n",
        "b = np.random.randn(1) * 0.1\n",
        "\n",
        "lr = 0.01\n",
        "epochs = 1000\n",
        "\n",
        "for epoch in range(epochs):\n",
        "    Y_pred = np.dot(X_train, w) + b\n",
        "    loss = np.mean((Y_pred - Y_train) ** 2)\n",
        "    error = Y_pred - Y_train\n",
        "    grad_w = np.dot(X_train.T, error) / X_train.shape[0]\n",
        "    grad_b = np.sum(error) / X_train.shape[0]\n",
        "    w -= lr * grad_w\n",
        "    b -= lr * grad_b\n",
        "    if epoch % 100 == 0:\n",
        "        print(f\"Epoch {epoch}: Loss = {loss:.4f}\")\n",
        "\n",
        "train_mse = np.mean((np.dot(X_train, w) + b - Y_train) ** 2)\n",
        "test_mse = np.mean((np.dot(X_test, w) + b - Y_test) ** 2)\n",
        "\n",
        "print(f\"Final Training MSE: {train_mse:.4f}\")\n",
        "print(f\"Final Testing MSE: {test_mse:.4f}\")\n",
        "\n",
        "x_input = np.array(list(map(float, input(\"Enter x1, x2, x3 values separated by space: \").split())))\n",
        "prediction = np.dot(x_input, w) + b\n",
        "print(f\"Predicted Output: {prediction[0]:.4f}\")"
      ]
    },
    {
      "cell_type": "code",
      "source": [
        "import numpy as np\n",
        "\n",
        "def sigmoid(x):\n",
        "    return 1 / (1 + np.exp(-x))\n",
        "\n",
        "def sigmoid_derivative(x):\n",
        "    return x * (1 - x)\n",
        "\n",
        "X_train = np.array([\n",
        "    [0.1, 0.2, 0.3],\n",
        "    [0.2, 0.3, 0.4],\n",
        "    [0.3, 0.4, 0.5],\n",
        "    [0.5, 0.6, 0.7],\n",
        "    [0.1, 0.3, 0.5],\n",
        "    [0.2, 0.4, 0.6],\n",
        "    [0.3, 0.5, 0.7],\n",
        "    [0.4, 0.6, 0.8],\n",
        "    [0.5, 0.7, 0.1]\n",
        "])\n",
        "\n",
        "Y_train = np.array([[0.5349], [0.5498], [0.5646], [0.5939], [0.5548], [0.5695], [0.5842], [0.5987], [0.5548]])\n",
        "\n",
        "X_test = np.array([\n",
        "    [0.6, 0.7, 0.8],\n",
        "    [0.7, 0.8, 0.9]\n",
        "])\n",
        "Y_test = np.array([[0.6083], [0.6225]])\n",
        "\n",
        "np.random.seed(42)\n",
        "w = np.random.randn(3, 1) * 0.1\n",
        "b = np.random.randn(1) * 0.1\n",
        "\n",
        "lr = 0.01\n",
        "epochs = 1000\n",
        "\n",
        "for epoch in range(epochs):\n",
        "    Y_pred = sigmoid(np.dot(X_train, w) + b)\n",
        "    loss = np.mean((Y_pred - Y_train) ** 2)\n",
        "    error = Y_pred - Y_train\n",
        "    grad_w = np.dot(X_train.T, error * sigmoid_derivative(Y_pred)) / X_train.shape[0]\n",
        "    grad_b = np.sum(error * sigmoid_derivative(Y_pred)) / X_train.shape[0]\n",
        "    w -= lr * grad_w\n",
        "    b -= lr * grad_b\n",
        "    if epoch % 100 == 0:\n",
        "        print(f\"Epoch {epoch}: Loss = {loss:.4f}\")\n",
        "\n",
        "train_mse = np.mean((sigmoid(np.dot(X_train, w) + b) - Y_train) ** 2)\n",
        "test_mse = np.mean((sigmoid(np.dot(X_test, w) + b) - Y_test) ** 2)\n",
        "\n",
        "print(f\"Final Training MSE: {train_mse:.4f}\")\n",
        "print(f\"Final Testing MSE: {test_mse:.4f}\")\n",
        "\n",
        "x_input = np.array(list(map(float, input(\"Enter x1, x2, x3 values separated by space: \").split())))\n",
        "prediction = sigmoid(np.dot(x_input, w) + b)\n",
        "print(f\"Predicted Output: {prediction[0]:.4f}\")"
      ],
      "metadata": {
        "id": "1EQ6p6Qw4xTf",
        "outputId": "c4524e69-4117-4292-e4ce-a6d83feb6526",
        "colab": {
          "base_uri": "https://localhost:8080/"
        }
      },
      "execution_count": 2,
      "outputs": [
        {
          "output_type": "stream",
          "name": "stdout",
          "text": [
            "Epoch 0: Loss = 0.0006\n",
            "Epoch 100: Loss = 0.0006\n",
            "Epoch 200: Loss = 0.0005\n",
            "Epoch 300: Loss = 0.0004\n",
            "Epoch 400: Loss = 0.0004\n",
            "Epoch 500: Loss = 0.0004\n",
            "Epoch 600: Loss = 0.0003\n",
            "Epoch 700: Loss = 0.0003\n",
            "Epoch 800: Loss = 0.0003\n",
            "Epoch 900: Loss = 0.0003\n",
            "Final Training MSE: 0.0003\n",
            "Final Testing MSE: 0.0018\n",
            "Enter x1, x2, x3 values separated by space: 0.6 0.7 0.8\n",
            "Predicted Output: 0.5718\n"
          ]
        }
      ]
    }
  ]
}